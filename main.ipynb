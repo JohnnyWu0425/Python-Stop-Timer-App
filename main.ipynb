{
 "cells": [
  {
   "cell_type": "markdown",
   "metadata": {},
   "source": [
    "# Import Module"
   ]
  },
  {
   "cell_type": "code",
   "execution_count": null,
   "metadata": {},
   "outputs": [],
   "source": [
    "import time"
   ]
  },
  {
   "cell_type": "markdown",
   "metadata": {},
   "source": [
    "# Main Driver"
   ]
  },
  {
   "cell_type": "code",
   "execution_count": null,
   "metadata": {},
   "outputs": [],
   "source": [
    "print(\"計時器 !\")\n",
    "\n",
    "print(\"按下 \\\"Enter\\\" 後開始；按下 \\\"Ctrl+C\\\" 後結束 !\" )\n",
    "\n",
    "while True:\n",
    "    \n",
    "    try:\n",
    "        # 接收 Enetr 用一般的 input() 即可\n",
    "        input()\n",
    "        \n",
    "        print(\"計時開始\")\n",
    "        \n",
    "        # 取得目前時間\n",
    "        start = time.time()\n",
    "    \n",
    "    # 如接收到 Ctrl+C 時\n",
    "    except KeyboardInterrupt:\n",
    "        \n",
    "        print(\"結束計時\")\n",
    "        \n",
    "        # 取得目前時間\n",
    "        end = time.time()\n",
    "        \n",
    "        break\n",
    "\n",
    "print(\"經歷時間 : \",round(end-start,2))"
   ]
  }
 ],
 "metadata": {
  "kernelspec": {
   "display_name": "Python 3",
   "language": "python",
   "name": "python3"
  },
  "language_info": {
   "codemirror_mode": {
    "name": "ipython",
    "version": 3
   },
   "file_extension": ".py",
   "mimetype": "text/x-python",
   "name": "python",
   "nbconvert_exporter": "python",
   "pygments_lexer": "ipython3",
   "version": "3.6.8"
  }
 },
 "nbformat": 4,
 "nbformat_minor": 2
}
